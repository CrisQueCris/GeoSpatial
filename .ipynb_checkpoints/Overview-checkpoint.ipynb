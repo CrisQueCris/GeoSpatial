{
 "cells": [
  {
   "cell_type": "markdown",
   "id": "0c380ff0-9c3c-4eac-a90d-eda362d8fdef",
   "metadata": {},
   "source": [
    "This Repo is intended to familiarize with a few geospatial application specifically in the agricultural context, using python combined with geospatial libraries such as gdal, geopandas, snappy among others.\n",
    "\n",
    "In order to do this we will follow certain projects where we can apply knowledge practically following the project roadmap."
   ]
  },
  {
   "cell_type": "markdown",
   "id": "c4d3fa83-7a44-4cee-ab56-6278700d596f",
   "metadata": {},
   "source": [
    "1. Project: AgroViewer - Build a view that provides uptodate satellite images of the fields of a farmer.\n",
    "\n",
    "    Steps:\n",
    "    \n",
    "        1.1: Obtain satelites images from [Copernicus API](https://scihub.copernicus.eu/).\n",
    "        1.2: Read data and apply standardization methods using snappy [following this RUS Webinar](https://www.youtube.com/watch?v=PiU68g3WRIY).\n",
    "        1.3: Read shapefile data of farmers fields obtained from [Agrarantrag Brandenburg](https://www.agrarantrag-bb.de/webClient_BB_P/).\n",
    "        1.4: Read aditional from [Brandenburg viewer](https://bb-viewer.geobasis-bb.de/).\n",
    "        1.5: Filter the imported data on the basis of the vectordata of the farmer's fields.\n",
    "        1.6: Filter the fields by culture.\n",
    "        1.7: Plot the fields of the farmer."
   ]
  }
 ],
 "metadata": {
  "kernelspec": {
   "display_name": "Python 3 (ipykernel)",
   "language": "python",
   "name": "python3"
  },
  "language_info": {
   "codemirror_mode": {
    "name": "ipython",
    "version": 3
   },
   "file_extension": ".py",
   "mimetype": "text/x-python",
   "name": "python",
   "nbconvert_exporter": "python",
   "pygments_lexer": "ipython3",
   "version": "3.9.7"
  }
 },
 "nbformat": 4,
 "nbformat_minor": 5
}
